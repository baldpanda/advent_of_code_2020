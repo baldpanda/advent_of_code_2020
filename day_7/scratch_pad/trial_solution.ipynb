{
 "cells": [
  {
   "cell_type": "code",
   "execution_count": 209,
   "metadata": {},
   "outputs": [],
   "source": [
    "with open(\"bag_data.txt\", \"r\") as f:\n",
    "    data = f.readlines()"
   ]
  },
  {
   "cell_type": "code",
   "execution_count": 210,
   "metadata": {},
   "outputs": [],
   "source": [
    "data = [row.replace(\".\", \"\").strip().replace(\"bags \", \"\").replace(\" bag\", \"\").split(\" contain \") for row in data]"
   ]
  },
  {
   "cell_type": "code",
   "execution_count": 211,
   "metadata": {},
   "outputs": [],
   "source": [
    "bags = {}\n",
    "for row in data:\n",
    "    bag = row[0].replace(\" \", \"_\")\n",
    "    if bag not in bags:\n",
    "        bags[bag] = {}\n",
    "    bags_contained_in_bag = row[1]\n",
    "    if bags_contained_in_bag != \"no others\":\n",
    "        bags_contained_in_bag = [b.replace(\" \",\"_\").split(\"_\", 1) for b in bags_contained_in_bag.split(\", \")]\n",
    "        for b in bags_contained_in_bag:\n",
    "            if int(b[0]) > 1:\n",
    "                b[1] = b[1][:-1]\n",
    "            bags[bag][b[1]] = b[0]"
   ]
  },
  {
   "cell_type": "code",
   "execution_count": 213,
   "metadata": {},
   "outputs": [],
   "source": [
    "def get_number_of_bags_that_can_contain_shiny_gold_bags(bags):\n",
    "    number_of_bags_that_contain_shiny_gold_bags = 0\n",
    "    for bag in bags:\n",
    "        if does_bag_contain_a_shiny_gold_bag(bag, bags):\n",
    "            number_of_bags_that_contain_shiny_gold_bags += 1\n",
    "    return number_of_bags_that_contain_shiny_gold_bags"
   ]
  },
  {
   "cell_type": "code",
   "execution_count": 222,
   "metadata": {},
   "outputs": [],
   "source": [
    "def does_bag_contain_a_shiny_gold_bag(bag_name, bags):\n",
    "    inner_bags = bags.get(bag_name)\n",
    "    if inner_bags.get(\"shiny_gold\") is not None:\n",
    "        return True\n",
    "    else:\n",
    "        for inner_bag in inner_bags:\n",
    "            if does_bag_contain_a_shiny_gold_bag(inner_bag, bags):\n",
    "                return True               \n",
    "    return False"
   ]
  },
  {
   "cell_type": "code",
   "execution_count": 223,
   "metadata": {},
   "outputs": [
    {
     "data": {
      "text/plain": [
       "254"
      ]
     },
     "execution_count": 223,
     "metadata": {},
     "output_type": "execute_result"
    }
   ],
   "source": [
    "get_number_of_bags_that_can_contain_shiny_gold_bags(bags)"
   ]
  },
  {
   "cell_type": "code",
   "execution_count": 226,
   "metadata": {},
   "outputs": [],
   "source": [
    "def get_number_of_bags_within_bag(bags, bag_name=\"shiny_gold\"):\n",
    "    total_number_of_bags = 0\n",
    "    inner_bags = bags.get(bag_name)\n",
    "    for inner_bag in inner_bags:\n",
    "        inner_bag_count = int(inner_bags.get(inner_bag))\n",
    "        total_number_of_bags += inner_bag_count + inner_bag_count * get_number_of_bags_within_bag(bags, inner_bag)\n",
    "    return total_number_of_bags"
   ]
  },
  {
   "cell_type": "code",
   "execution_count": 227,
   "metadata": {},
   "outputs": [
    {
     "data": {
      "text/plain": [
       "6006"
      ]
     },
     "execution_count": 227,
     "metadata": {},
     "output_type": "execute_result"
    }
   ],
   "source": [
    "get_number_of_bags_within_bag(bags)"
   ]
  },
  {
   "cell_type": "code",
   "execution_count": null,
   "metadata": {},
   "outputs": [],
   "source": []
  }
 ],
 "metadata": {
  "kernelspec": {
   "display_name": "Python 3",
   "language": "python",
   "name": "python3"
  },
  "language_info": {
   "codemirror_mode": {
    "name": "ipython",
    "version": 3
   },
   "file_extension": ".py",
   "mimetype": "text/x-python",
   "name": "python",
   "nbconvert_exporter": "python",
   "pygments_lexer": "ipython3",
   "version": "3.8.6"
  }
 },
 "nbformat": 4,
 "nbformat_minor": 4
}
