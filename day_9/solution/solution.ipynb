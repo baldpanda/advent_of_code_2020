{
 "cells": [
  {
   "cell_type": "code",
   "execution_count": null,
   "metadata": {},
   "outputs": [],
   "source": [
    "import itertools"
   ]
  },
  {
   "cell_type": "code",
   "execution_count": null,
   "metadata": {},
   "outputs": [],
   "source": [
    "with open(\"puzzle_input.txt\", \"r\") as f:\n",
    "    raw_data = f.readlines()"
   ]
  },
  {
   "cell_type": "code",
   "execution_count": null,
   "metadata": {},
   "outputs": [],
   "source": [
    "data = [int(d.strip()) for d in raw_data]"
   ]
  },
  {
   "cell_type": "code",
   "execution_count": null,
   "metadata": {},
   "outputs": [],
   "source": [
    "length_of_preamble = 25"
   ]
  },
  {
   "cell_type": "code",
   "execution_count": null,
   "metadata": {},
   "outputs": [],
   "source": [
    "preamble = data[0:length_of_preamble]\n",
    "print(preamble)"
   ]
  },
  {
   "cell_type": "code",
   "execution_count": null,
   "metadata": {},
   "outputs": [],
   "source": [
    "postamble = data[length_of_preamble:]"
   ]
  },
  {
   "cell_type": "code",
   "execution_count": null,
   "metadata": {},
   "outputs": [],
   "source": [
    "invalid_number_found = False\n",
    "i = 0\n",
    "while not invalid_number_found or i > len(postamble):\n",
    "    preamble = data[i:(i+length_of_preamble)]\n",
    "    permutations = list(itertools.combinations(preamble, 2))\n",
    "    pair_of_elements = [sum(pair) for pair in permutations]\n",
    "    if postamble[i] not in pair_of_elements:\n",
    "        invalid_number_found = True\n",
    "    i+=1\n",
    "print(f\"Invalid number found: {invalid_number_found}\")\n",
    "if invalid_number_found:\n",
    "    print(f\"Invalid number: {postamble[i-1]}\")"
   ]
  },
  {
   "cell_type": "code",
   "execution_count": null,
   "metadata": {},
   "outputs": [],
   "source": [
    "class XmasCodeBreaker:\n",
    "    def __init__(self, numbers, target_number):\n",
    "        self.target_number = target_number\n",
    "        self.numbers = numbers\n",
    "        \n",
    "    def get_contiguous_set(self, contiguous_set, index=0):\n",
    "        current_summation = sum((contiguous_set))\n",
    "        if current_summation == self.target_number:\n",
    "            return contiguous_set\n",
    "        elif current_summation >= self.target_number:\n",
    "            index = index - 1\n",
    "            contiguous_set.pop(0)\n",
    "            del contiguous_set[-1]\n",
    "            return self.get_contiguous_set(contiguous_set, index)\n",
    "        else:\n",
    "            index = index + 1\n",
    "            contiguous_set.append(self.numbers[index])\n",
    "            return self.get_contiguous_set(contiguous_set, index)"
   ]
  },
  {
   "cell_type": "code",
   "execution_count": null,
   "metadata": {},
   "outputs": [],
   "source": [
    "code_breaker = XmasCodeBreaker(data, 507622668)"
   ]
  },
  {
   "cell_type": "code",
   "execution_count": null,
   "metadata": {},
   "outputs": [],
   "source": [
    "cont_set = (code_breaker.get_contiguous_set([data[0]]))"
   ]
  },
  {
   "cell_type": "code",
   "execution_count": null,
   "metadata": {},
   "outputs": [],
   "source": [
    "min(cont_set) + max(cont_set)"
   ]
  },
  {
   "cell_type": "code",
   "execution_count": null,
   "metadata": {},
   "outputs": [],
   "source": []
  }
 ],
 "metadata": {
  "kernelspec": {
   "display_name": "Python 3",
   "language": "python",
   "name": "python3"
  },
  "language_info": {
   "codemirror_mode": {
    "name": "ipython",
    "version": 3
   },
   "file_extension": ".py",
   "mimetype": "text/x-python",
   "name": "python",
   "nbconvert_exporter": "python",
   "pygments_lexer": "ipython3",
   "version": "3.8.6"
  }
 },
 "nbformat": 4,
 "nbformat_minor": 4
}
